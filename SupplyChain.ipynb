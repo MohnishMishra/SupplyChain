{
 "cells": [
  {
   "cell_type": "code",
   "execution_count": 1,
   "metadata": {},
   "outputs": [],
   "source": [
    "import pulp \n",
    "problem = pulp.LpProblem(\"My_Problem\", pulp.LpMinimize)"
   ]
  },
  {
   "cell_type": "code",
   "execution_count": 2,
   "metadata": {},
   "outputs": [],
   "source": [
    "#Upper bound is yet to be added \n",
    "#x >= 0 #u,l >= 0\n",
    "\n",
    "penalty_cost = pulp.LpVariable ('penalty_cost', lowBound=0, cat = 'Continuous') #f\n",
    "lost_sales = pulp.LpVariable ('lost_sales', lowBound=0, cat = 'Continuous') #l\n",
    "material_flow = pulp.LpVariable ('material_flow', lowBound=0, cat = 'Continuous') #x\n",
    "demand_rate = pulp.LpVariable ('demand_rate', lowBound=0, cat = 'Continuous') #d\n",
    "ttr_chain = pulp.LpVariable ('ttr', lowBound=0, cat = 'Continuous') #t\n",
    "ttr_node = pulp.LpVariable ('ttr_node', lowBound= 0, cat = 'Continuous') #t \n",
    "goods_produced =pulp.LpVariable ('goods_produced', lowBound= 0, cat = 'Continuous') #u\n",
    "goods_in_inventory = pulp.LpVariable ('inventory', lowBound= 0, cat = 'Continuous') #r\n",
    "unit_inventory_holding_cost = pulp.LpVariable ('unit_inventory_holding_cost', lowBound = 0, cat= 'Continuous') #h\n",
    "indicator_matrix = pulp.LpVariable ('indicator', lowBound= 0, cat = 'Continuous') #I\n",
    "bom_matrix = pulp.LpVariable ('bom_matrix', lowBound= 0, cat = 'Continuous') #B\n",
    "survival_indicator = pulp.LpVariable ('survival_indicator', lowBound= 0, cat = 'Continuous') #v\n",
    "production_capacity = pulp.LpVariable ('production', lowBound= 0, cat = 'Continuous') #c\n"
   ]
  },
  {
   "cell_type": "code",
   "execution_count": 4,
   "metadata": {},
   "outputs": [
    {
     "ename": "TypeError",
     "evalue": "Non-constant expressions cannot be multiplied",
     "output_type": "error",
     "traceback": [
      "\u001b[1;31m---------------------------------------------------------------------------\u001b[0m",
      "\u001b[1;31mTypeError\u001b[0m                                 Traceback (most recent call last)",
      "Cell \u001b[1;32mIn[4], line 1\u001b[0m\n\u001b[1;32m----> 1\u001b[0m problem \u001b[39m+\u001b[39m\u001b[39m=\u001b[39m \u001b[39msum\u001b[39m(penalty_cost\u001b[39m*\u001b[39;49mlost_sales) \u001b[39m+\u001b[39m \u001b[39msum\u001b[39m(unit_inventory_holding_cost \u001b[39m*\u001b[39m goods_in_inventory) \u001b[39m#objective\u001b[39;00m\n",
      "File \u001b[1;32mc:\\Users\\KIIT\\AppData\\Local\\Programs\\Python\\Python311\\Lib\\site-packages\\pulp\\pulp.py:209\u001b[0m, in \u001b[0;36mLpElement.__mul__\u001b[1;34m(self, other)\u001b[0m\n\u001b[0;32m    208\u001b[0m \u001b[39mdef\u001b[39;00m \u001b[39m__mul__\u001b[39m(\u001b[39mself\u001b[39m, other):\n\u001b[1;32m--> 209\u001b[0m     \u001b[39mreturn\u001b[39;00m LpAffineExpression(\u001b[39mself\u001b[39;49m) \u001b[39m*\u001b[39;49m other\n",
      "File \u001b[1;32mc:\\Users\\KIIT\\AppData\\Local\\Programs\\Python\\Python311\\Lib\\site-packages\\pulp\\pulp.py:969\u001b[0m, in \u001b[0;36mLpAffineExpression.__mul__\u001b[1;34m(self, other)\u001b[0m\n\u001b[0;32m    967\u001b[0m                 e[v] \u001b[39m=\u001b[39m c \u001b[39m*\u001b[39m x\n\u001b[0;32m    968\u001b[0m \u001b[39melif\u001b[39;00m \u001b[39misinstance\u001b[39m(other, LpVariable):\n\u001b[1;32m--> 969\u001b[0m     \u001b[39mreturn\u001b[39;00m \u001b[39mself\u001b[39;49m \u001b[39m*\u001b[39;49m LpAffineExpression(other)\n\u001b[0;32m    970\u001b[0m \u001b[39melse\u001b[39;00m:\n\u001b[0;32m    971\u001b[0m     \u001b[39mif\u001b[39;00m other \u001b[39m!=\u001b[39m \u001b[39m0\u001b[39m:\n",
      "File \u001b[1;32mc:\\Users\\KIIT\\AppData\\Local\\Programs\\Python\\Python311\\Lib\\site-packages\\pulp\\pulp.py:957\u001b[0m, in \u001b[0;36mLpAffineExpression.__mul__\u001b[1;34m(self, other)\u001b[0m\n\u001b[0;32m    955\u001b[0m \u001b[39mif\u001b[39;00m \u001b[39mlen\u001b[39m(other):\n\u001b[0;32m    956\u001b[0m     \u001b[39mif\u001b[39;00m \u001b[39mlen\u001b[39m(\u001b[39mself\u001b[39m):\n\u001b[1;32m--> 957\u001b[0m         \u001b[39mraise\u001b[39;00m \u001b[39mTypeError\u001b[39;00m(\u001b[39m\"\u001b[39m\u001b[39mNon-constant expressions cannot be multiplied\u001b[39m\u001b[39m\"\u001b[39m)\n\u001b[0;32m    958\u001b[0m     \u001b[39melse\u001b[39;00m:\n\u001b[0;32m    959\u001b[0m         c \u001b[39m=\u001b[39m \u001b[39mself\u001b[39m\u001b[39m.\u001b[39mconstant\n",
      "\u001b[1;31mTypeError\u001b[0m: Non-constant expressions cannot be multiplied"
     ]
    }
   ],
   "source": [
    "problem += sum(penalty_cost*lost_sales) + sum(unit_inventory_holding_cost * goods_in_inventory) #objective"
   ]
  },
  {
   "cell_type": "code",
   "execution_count": 5,
   "metadata": {},
   "outputs": [
    {
     "ename": "TypeError",
     "evalue": "'LpVariable' object is not iterable",
     "output_type": "error",
     "traceback": [
      "\u001b[1;31m---------------------------------------------------------------------------\u001b[0m",
      "\u001b[1;31mTypeError\u001b[0m                                 Traceback (most recent call last)",
      "Cell \u001b[1;32mIn[5], line 1\u001b[0m\n\u001b[1;32m----> 1\u001b[0m problem \u001b[39m+\u001b[39m\u001b[39m=\u001b[39m \u001b[39msum\u001b[39;49m(material_flow) \u001b[39m+\u001b[39m lost_sales \u001b[39m>\u001b[39m\u001b[39m=\u001b[39m (demand_rate \u001b[39m*\u001b[39m ttr_chain)\n\u001b[0;32m      2\u001b[0m problem \u001b[39m+\u001b[39m\u001b[39m=\u001b[39m \u001b[39msum\u001b[39m(material_flow) \u001b[39m-\u001b[39m goods_produced \u001b[39m<\u001b[39m\u001b[39m=\u001b[39m goods_in_inventory\n\u001b[0;32m      3\u001b[0m problem \u001b[39m+\u001b[39m\u001b[39m=\u001b[39m \u001b[39msum\u001b[39m((material_flow \u001b[39m*\u001b[39m indicator_matrix)\u001b[39m/\u001b[39m(bom_matrix)) \u001b[39m-\u001b[39m goods_produced \u001b[39m>\u001b[39m\u001b[39m=\u001b[39m \u001b[39m0\u001b[39m\n",
      "\u001b[1;31mTypeError\u001b[0m: 'LpVariable' object is not iterable"
     ]
    }
   ],
   "source": [
    "\n",
    "problem += sum(material_flow) + lost_sales >= (demand_rate * ttr_chain)\n",
    "problem += sum(material_flow) - goods_produced <= goods_in_inventory\n",
    "problem += sum((material_flow * indicator_matrix)/(bom_matrix)) - goods_produced >= 0\n",
    "problem += sum(goods_produced) <= (ttr_chain - ttr_node (1 - survival_indicator)) * production_capacity"
   ]
  },
  {
   "cell_type": "code",
   "execution_count": null,
   "metadata": {},
   "outputs": [],
   "source": []
  }
 ],
 "metadata": {
  "kernelspec": {
   "display_name": "Python 3",
   "language": "python",
   "name": "python3"
  },
  "language_info": {
   "codemirror_mode": {
    "name": "ipython",
    "version": 3
   },
   "file_extension": ".py",
   "mimetype": "text/x-python",
   "name": "python",
   "nbconvert_exporter": "python",
   "pygments_lexer": "ipython3",
   "version": "3.11.3"
  },
  "orig_nbformat": 4
 },
 "nbformat": 4,
 "nbformat_minor": 2
}
